{
  "nbformat": 4,
  "nbformat_minor": 0,
  "metadata": {
    "colab": {
      "provenance": []
    },
    "kernelspec": {
      "name": "python3",
      "display_name": "Python 3"
    },
    "language_info": {
      "name": "python"
    },
    "accelerator": "GPU",
    "gpuClass": "standard"
  },
  "cells": [
    {
      "cell_type": "code",
      "execution_count": null,
      "metadata": {
        "id": "CG0nrW_rA9fJ",
        "colab": {
          "base_uri": "https://localhost:8080/"
        },
        "outputId": "f937a5cc-5bb0-4c11-b057-436e5980eaa3"
      },
      "outputs": [
        {
          "output_type": "stream",
          "name": "stdout",
          "text": [
            "Drive already mounted at /content/gdrive; to attempt to forcibly remount, call drive.mount(\"/content/gdrive\", force_remount=True).\n"
          ]
        }
      ],
      "source": [
        "from google.colab import drive\n",
        "drive.mount('/content/gdrive')"
      ]
    },
    {
      "cell_type": "code",
      "source": [
        "!unzip /content/gdrive/MyDrive/NeuralNetwork/data.zip > /dev/null"
      ],
      "metadata": {
        "id": "_WpQUoRLBGlD"
      },
      "execution_count": null,
      "outputs": []
    },
    {
      "cell_type": "code",
      "source": [
        "import tensorflow as tf\n",
        "img = tf.keras.preprocessing.image.load_img('data/Train/Yoga_236.jpg')\n",
        "img"
      ],
      "metadata": {
        "id": "RNBTGb9FBH8h",
        "colab": {
          "base_uri": "https://localhost:8080/",
          "height": 197
        },
        "outputId": "dd920340-4b63-4392-b46c-a696ac85fa66"
      },
      "execution_count": null,
      "outputs": [
        {
          "output_type": "execute_result",
          "data": {
            "text/plain": [
              "<PIL.JpegImagePlugin.JpegImageFile image mode=RGB size=320x180 at 0x7F4494054CA0>"
            ],
            "image/png": "[encoded data removed]"
          },
          "metadata": {},
          "execution_count": 3
        }
      ]
    },
    {
      "cell_type": "code",
      "source": [
        "import tensorflow as tf\n",
        "from tensorflow.keras import layers\n",
        "\n",
        "\n",
        "data_augmentation = tf.keras.Sequential([\n",
        "  layers.experimental.preprocessing.RandomFlip(\"horizontal_and_vertical\"),\n",
        "  layers.experimental.preprocessing.RandomRotation(0.2),\n",
        "])"
      ],
      "metadata": {
        "id": "mEMpvCYDNlkc"
      },
      "execution_count": null,
      "outputs": []
    },
    {
      "cell_type": "code",
      "source": [
        "import os\n",
        "from keras.utils import to_categorical\n",
        "import tensorflow as tf\n",
        "import numpy as np\n",
        "from random import shuffle\n",
        "\n",
        "train_data = []\n",
        "\n",
        "for i in os.listdir('/content/data/Train'):\n",
        "  img = tf.keras.preprocessing.image.load_img(os.path.join('/content/data/Train',i),target_size =(224,224,3))\n",
        "  img = tf.keras.utils.img_to_array(img)\n",
        "\n",
        "  augmented_image = data_augmentation(img)\n",
        "  augmented_image =tf.keras.utils.img_to_array(augmented_image)\n",
        "\n",
        "  image_label = i.split('_')[0]\n",
        "\n",
        "  train_data.append((img, image_label))\n",
        "  train_data.append((augmented_image, image_label))\n",
        "\n",
        "\n",
        "shuffle(train_data)\n",
        "\n",
        "train_images = []\n",
        "train_labels = []\n",
        "\n",
        "for i in range(len(train_data)):\n",
        "  train_images.append(train_data[i][0])\n",
        "  train_labels.append(train_data[i][1])\n",
        "\n",
        "classes = [\"Basketball\", \"Football\", \"Rowing\", \"Swimming\", \"Tennis\", \"Yoga\"]\n",
        "\n",
        "mapping = {}\n",
        "for i in range(len(classes)):\n",
        "  mapping[classes[i]] = i\n",
        "\n",
        "# integer representation\n",
        "for i in range(len(train_labels)):\n",
        "  train_labels[i] = mapping[train_labels[i]]\n",
        "\n",
        "encoded_labels = to_categorical(train_labels)\n",
        "\n",
        "train_images = np.array(train_images) "
      ],
      "metadata": {
        "id": "RpspROucBJ10"
      },
      "execution_count": null,
      "outputs": []
    },
    {
      "cell_type": "code",
      "source": [
        "print(train_images)"
      ],
      "metadata": {
        "id": "5cO4vsQfpY5U"
      },
      "execution_count": null,
      "outputs": []
    },
    {
      "cell_type": "code",
      "source": [
        "import os\n",
        "\n",
        "test_images = []\n",
        "test_images_names = []\n",
        "for i in os.listdir('/content/data/Test'):\n",
        "  img = tf.keras.preprocessing.image.load_img(os.path.join('/content/data/Test',i),target_size =(224,224,3))\n",
        "  img = tf.keras.utils.img_to_array(img)\n",
        "  test_images.append(img)\n",
        "  test_images_names.append(i)\n",
        "\n",
        "test_images = np.array(test_images) "
      ],
      "metadata": {
        "id": "0VxHjO5WBL5V"
      },
      "execution_count": null,
      "outputs": []
    },
    {
      "cell_type": "code",
      "source": [
        "import keras\n",
        "import tensorflow as tf\n",
        "from keras.models import Sequential\n",
        "from keras.layers import Dense, Activation, Dropout, Flatten, Conv2D, MaxPooling2D\n",
        "from keras.layers import MaxPool2D\n",
        "from keras.models import Sequential, Model\n",
        "from tensorflow.keras.layers import BatchNormalization\n",
        "import numpy as np\n",
        "\n",
        "def VGG16():\n",
        "    model = Sequential()\n",
        "    model.add(Conv2D(input_shape=(224,224,3),filters=64,kernel_size=(3,3),padding=\"same\", activation=\"relu\"))\n",
        "    model.add(Conv2D(filters=64,kernel_size=(3,3),padding=\"same\", activation=\"relu\"))\n",
        "    model.add(MaxPool2D(pool_size=(2,2),strides=(2,2)))\n",
        "    model.add(Conv2D(filters=128, kernel_size=(3,3), padding=\"same\", activation=\"relu\"))\n",
        "    model.add(Conv2D(filters=128, kernel_size=(3,3), padding=\"same\", activation=\"relu\"))\n",
        "    model.add(MaxPool2D(pool_size=(2,2),strides=(2,2)))\n",
        "    model.add(Conv2D(filters=256, kernel_size=(3,3), padding=\"same\", activation=\"relu\"))\n",
        "    model.add(Conv2D(filters=256, kernel_size=(3,3), padding=\"same\", activation=\"relu\"))\n",
        "    model.add(Conv2D(filters=256, kernel_size=(3,3), padding=\"same\", activation=\"relu\"))\n",
        "    model.add(MaxPool2D(pool_size=(2,2),strides=(2,2)))\n",
        "    model.add(Conv2D(filters=512, kernel_size=(3,3), padding=\"same\", activation=\"relu\"))\n",
        "    model.add(Conv2D(filters=512, kernel_size=(3,3), padding=\"same\", activation=\"relu\"))\n",
        "    model.add(Conv2D(filters=512, kernel_size=(3,3), padding=\"same\", activation=\"relu\"))\n",
        "    model.add(MaxPool2D(pool_size=(2,2),strides=(2,2)))\n",
        "    model.add(Conv2D(filters=512, kernel_size=(3,3), padding=\"same\", activation=\"relu\"))\n",
        "    model.add(Conv2D(filters=512, kernel_size=(3,3), padding=\"same\", activation=\"relu\"))\n",
        "    model.add(Conv2D(filters=512, kernel_size=(3,3), padding=\"same\", activation=\"relu\"))\n",
        "    model.add(MaxPool2D(pool_size=(2,2),strides=(2,2),name='vgg16'))\n",
        "    model.add(Flatten(name='flatten'))\n",
        "    model.add(Dense(256, activation='relu', name='fc1'))\n",
        "    model.add(Dense(128, activation='relu', name='fc2'))\n",
        "    model.add(Dense(6, activation='sigmoid', name='output'))\n",
        "    return model\n",
        "\n",
        "model = VGG16()\n",
        "#Model Summary\n",
        "model.summary()\n",
        "Vgg16 = Model(inputs=model.input, outputs=model.get_layer('vgg16').output)\n",
        "\n",
        "model.compile(loss = keras.losses.categorical_crossentropy, optimizer= 'adam', metrics=['accuracy'])\n"
      ],
      "metadata": {
        "id": "LxYpSwTSBNNL",
        "colab": {
          "base_uri": "https://localhost:8080/"
        },
        "outputId": "d1f7e835-7e1e-492e-973c-0e9081030603"
      },
      "execution_count": null,
      "outputs": [
        {
          "output_type": "stream",
          "name": "stdout",
          "text": [
            "Model: \"sequential_1\"\n",
            "_________________________________________________________________\n",
            " Layer (type)                Output Shape              Param #   \n",
            "=================================================================\n",
            " conv2d (Conv2D)             (None, 224, 224, 64)      1792      \n",
            "                                                                 \n",
            " conv2d_1 (Conv2D)           (None, 224, 224, 64)      36928     \n",
            "                                                                 \n",
            " max_pooling2d (MaxPooling2D  (None, 112, 112, 64)     0         \n",
            " )                                                               \n",
            "                                                                 \n",
            " conv2d_2 (Conv2D)           (None, 112, 112, 128)     73856     \n",
            "                                                                 \n",
            " conv2d_3 (Conv2D)           (None, 112, 112, 128)     147584    \n",
            "                                                                 \n",
            " max_pooling2d_1 (MaxPooling  (None, 56, 56, 128)      0         \n",
            " 2D)                                                             \n",
            "                                                                 \n",
            " conv2d_4 (Conv2D)           (None, 56, 56, 256)       295168    \n",
            "                                                                 \n",
            " conv2d_5 (Conv2D)           (None, 56, 56, 256)       590080    \n",
            "                                                                 \n",
            " conv2d_6 (Conv2D)           (None, 56, 56, 256)       590080    \n",
            "                                                                 \n",
            " max_pooling2d_2 (MaxPooling  (None, 28, 28, 256)      0         \n",
            " 2D)                                                             \n",
            "                                                                 \n",
            " conv2d_7 (Conv2D)           (None, 28, 28, 512)       1180160   \n",
            "                                                                 \n",
            " conv2d_8 (Conv2D)           (None, 28, 28, 512)       2359808   \n",
            "                                                                 \n",
            " conv2d_9 (Conv2D)           (None, 28, 28, 512)       2359808   \n",
            "                                                                 \n",
            " max_pooling2d_3 (MaxPooling  (None, 14, 14, 512)      0         \n",
            " 2D)                                                             \n",
            "                                                                 \n",
            " conv2d_10 (Conv2D)          (None, 14, 14, 512)       2359808   \n",
            "                                                                 \n",
            " conv2d_11 (Conv2D)          (None, 14, 14, 512)       2359808   \n",
            "                                                                 \n",
            " conv2d_12 (Conv2D)          (None, 14, 14, 512)       2359808   \n",
            "                                                                 \n",
            " vgg16 (MaxPooling2D)        (None, 7, 7, 512)         0         \n",
            "                                                                 \n",
            " flatten (Flatten)           (None, 25088)             0         \n",
            "                                                                 \n",
            " fc1 (Dense)                 (None, 256)               6422784   \n",
            "                                                                 \n",
            " fc2 (Dense)                 (None, 128)               32896     \n",
            "                                                                 \n",
            " output (Dense)              (None, 6)                 774       \n",
            "                                                                 \n",
            "=================================================================\n",
            "Total params: 21,171,142\n",
            "Trainable params: 21,171,142\n",
            "Non-trainable params: 0\n",
            "_________________________________________________________________\n"
          ]
        }
      ]
    },
    {
      "cell_type": "code",
      "source": [
        "Vgg16.load_weights(\"/content/vgg_Weights.h5\")\n",
        "for layer in Vgg16.layers:\n",
        "    layer.trainable = False\n",
        "for layer in model.layers:\n",
        "    print(layer, layer.trainable)"
      ],
      "metadata": {
        "colab": {
          "base_uri": "https://localhost:8080/"
        },
        "id": "byoWVww-dm-y",
        "outputId": "ecd0ae75-4f70-4beb-8c01-650056d85b23"
      },
      "execution_count": null,
      "outputs": [
        {
          "output_type": "stream",
          "name": "stdout",
          "text": [
            "<keras.layers.convolutional.conv2d.Conv2D object at 0x7f44200aa5e0> False\n",
            "<keras.layers.convolutional.conv2d.Conv2D object at 0x7f44200aae20> False\n",
            "<keras.layers.pooling.max_pooling2d.MaxPooling2D object at 0x7f44200aafd0> False\n",
            "<keras.layers.convolutional.conv2d.Conv2D object at 0x7f4420208b80> False\n",
            "<keras.layers.convolutional.conv2d.Conv2D object at 0x7f4420062730> False\n",
            "<keras.layers.pooling.max_pooling2d.MaxPooling2D object at 0x7f44200aaac0> False\n",
            "<keras.layers.convolutional.conv2d.Conv2D object at 0x7f43ca616700> False\n",
            "<keras.layers.convolutional.conv2d.Conv2D object at 0x7f43ca624850> False\n",
            "<keras.layers.convolutional.conv2d.Conv2D object at 0x7f43ca6249a0> False\n",
            "<keras.layers.pooling.max_pooling2d.MaxPooling2D object at 0x7f4434fc4070> False\n",
            "<keras.layers.convolutional.conv2d.Conv2D object at 0x7f43ca616790> False\n",
            "<keras.layers.convolutional.conv2d.Conv2D object at 0x7f43ca6243d0> False\n",
            "<keras.layers.convolutional.conv2d.Conv2D object at 0x7f43ca62b6a0> False\n",
            "<keras.layers.pooling.max_pooling2d.MaxPooling2D object at 0x7f43ca624c70> False\n",
            "<keras.layers.convolutional.conv2d.Conv2D object at 0x7f43ca6388b0> False\n",
            "<keras.layers.convolutional.conv2d.Conv2D object at 0x7f43ca6322b0> False\n",
            "<keras.layers.convolutional.conv2d.Conv2D object at 0x7f43ca632520> False\n",
            "<keras.layers.pooling.max_pooling2d.MaxPooling2D object at 0x7f43ca63f670> False\n",
            "<keras.layers.reshaping.flatten.Flatten object at 0x7f43ca63f370> True\n",
            "<keras.layers.core.dense.Dense object at 0x7f4434fccb50> True\n",
            "<keras.layers.core.dense.Dense object at 0x7f442020c850> True\n",
            "<keras.layers.core.dense.Dense object at 0x7f43ca61d670> True\n"
          ]
        }
      ]
    },
    {
      "cell_type": "code",
      "source": [
        "from keras.optimizers import Adam\n",
        "model.compile(loss = keras.losses.categorical_crossentropy, optimizer= 'Adam', metrics=['accuracy'])\n"
      ],
      "metadata": {
        "id": "tQAFloUPdzyu"
      },
      "execution_count": null,
      "outputs": []
    },
    {
      "cell_type": "code",
      "source": [
        "from keras.callbacks import ReduceLROnPlateau, EarlyStopping,ModelCheckpoint\n",
        "\n",
        "es=EarlyStopping(monitor='val_accuracy', mode='max', verbose=1, patience=20)\n",
        "mc = ModelCheckpoint('best_model.h5', monitor='val_accuracy', mode='max', save_best_only=True)\n",
        "H = model.fit(train_images, encoded_labels , validation_split=0.2, epochs = 100, batch_size = 64, steps_per_epoch = train_images.shape[0]//64, callbacks = [es, mc], verbose=1)"
      ],
      "metadata": {
        "id": "mM3L5dEsBO3i",
        "colab": {
          "base_uri": "https://localhost:8080/"
        },
        "outputId": "da73874d-cd3e-4d01-ab6a-2dcab7b6d74a"
      },
      "execution_count": null,
      "outputs": [
        {
          "output_type": "stream",
          "name": "stdout",
          "text": [
            "Epoch 1/100\n",
            "52/52 [==============================] - 31s 461ms/step - loss: 9.0362 - accuracy: 0.7106 - val_loss: 3.0809 - val_accuracy: 0.8514\n",
            "Epoch 2/100\n",
            "52/52 [==============================] - 20s 389ms/step - loss: 0.4881 - accuracy: 0.9608 - val_loss: 2.7371 - val_accuracy: 0.8618\n",
            "Epoch 3/100\n",
            "52/52 [==============================] - 19s 375ms/step - loss: 0.1088 - accuracy: 0.9862 - val_loss: 2.0852 - val_accuracy: 0.8811\n",
            "Epoch 4/100\n",
            "52/52 [==============================] - 19s 374ms/step - loss: 0.0471 - accuracy: 0.9936 - val_loss: 2.0454 - val_accuracy: 0.8886\n",
            "Epoch 5/100\n",
            "52/52 [==============================] - 19s 366ms/step - loss: 0.0134 - accuracy: 0.9972 - val_loss: 2.3628 - val_accuracy: 0.8886\n",
            "Epoch 6/100\n",
            "52/52 [==============================] - 20s 377ms/step - loss: 0.0019 - accuracy: 0.9997 - val_loss: 2.1908 - val_accuracy: 0.8826\n",
            "Epoch 7/100\n",
            "52/52 [==============================] - 19s 372ms/step - loss: 7.8044e-05 - accuracy: 1.0000 - val_loss: 2.1597 - val_accuracy: 0.8841\n",
            "Epoch 8/100\n",
            "52/52 [==============================] - 19s 370ms/step - loss: 7.7877e-06 - accuracy: 1.0000 - val_loss: 2.1544 - val_accuracy: 0.8841\n",
            "Epoch 9/100\n",
            "52/52 [==============================] - 19s 372ms/step - loss: 4.9373e-06 - accuracy: 1.0000 - val_loss: 2.1527 - val_accuracy: 0.8841\n",
            "Epoch 10/100\n",
            "52/52 [==============================] - 19s 367ms/step - loss: 3.8708e-06 - accuracy: 1.0000 - val_loss: 2.1516 - val_accuracy: 0.8826\n",
            "Epoch 11/100\n",
            "52/52 [==============================] - 19s 372ms/step - loss: 4.4623e-06 - accuracy: 1.0000 - val_loss: 2.1503 - val_accuracy: 0.8826\n",
            "Epoch 12/100\n",
            "52/52 [==============================] - 19s 372ms/step - loss: 2.8965e-06 - accuracy: 1.0000 - val_loss: 2.1491 - val_accuracy: 0.8826\n",
            "Epoch 13/100\n",
            "52/52 [==============================] - 19s 372ms/step - loss: 2.4400e-06 - accuracy: 1.0000 - val_loss: 2.1484 - val_accuracy: 0.8826\n",
            "Epoch 14/100\n",
            "52/52 [==============================] - 19s 371ms/step - loss: 2.6665e-06 - accuracy: 1.0000 - val_loss: 2.1474 - val_accuracy: 0.8826\n",
            "Epoch 15/100\n",
            "52/52 [==============================] - 19s 366ms/step - loss: 2.3913e-06 - accuracy: 1.0000 - val_loss: 2.1465 - val_accuracy: 0.8826\n",
            "Epoch 16/100\n",
            "52/52 [==============================] - 19s 372ms/step - loss: 1.7774e-06 - accuracy: 1.0000 - val_loss: 2.1458 - val_accuracy: 0.8841\n",
            "Epoch 17/100\n",
            "52/52 [==============================] - 19s 372ms/step - loss: 2.2363e-06 - accuracy: 1.0000 - val_loss: 2.1449 - val_accuracy: 0.8841\n",
            "Epoch 18/100\n",
            "52/52 [==============================] - 19s 373ms/step - loss: 1.6919e-06 - accuracy: 1.0000 - val_loss: 2.1442 - val_accuracy: 0.8841\n",
            "Epoch 19/100\n",
            "52/52 [==============================] - 19s 372ms/step - loss: 1.5457e-06 - accuracy: 1.0000 - val_loss: 2.1435 - val_accuracy: 0.8841\n",
            "Epoch 20/100\n",
            "52/52 [==============================] - 19s 372ms/step - loss: 1.6284e-06 - accuracy: 1.0000 - val_loss: 2.1428 - val_accuracy: 0.8841\n",
            "Epoch 21/100\n",
            "52/52 [==============================] - 19s 372ms/step - loss: 1.5741e-06 - accuracy: 1.0000 - val_loss: 2.1421 - val_accuracy: 0.8841\n",
            "Epoch 22/100\n",
            "52/52 [==============================] - 19s 373ms/step - loss: 1.4080e-06 - accuracy: 1.0000 - val_loss: 2.1416 - val_accuracy: 0.8841\n",
            "Epoch 23/100\n",
            "52/52 [==============================] - 19s 372ms/step - loss: 1.0608e-06 - accuracy: 1.0000 - val_loss: 2.1413 - val_accuracy: 0.8841\n",
            "Epoch 24/100\n",
            "52/52 [==============================] - 19s 366ms/step - loss: 1.0745e-06 - accuracy: 1.0000 - val_loss: 2.1406 - val_accuracy: 0.8841\n",
            "Epoch 24: early stopping\n"
          ]
        }
      ]
    },
    {
      "cell_type": "code",
      "source": [
        "y_predictions = model.predict(test_images)\n",
        "print(y_predictions)"
      ],
      "metadata": {
        "id": "VMc5a4bqBQIs",
        "colab": {
          "base_uri": "https://localhost:8080/"
        },
        "outputId": "5b733489-4971-4eee-d55b-2ebd6d33b50a"
      },
      "execution_count": null,
      "outputs": [
        {
          "output_type": "stream",
          "name": "stdout",
          "text": [
            "22/22 [==============================] - 7s 217ms/step\n",
            "[[3.28513692e-13 2.84668913e-25 0.00000000e+00 4.71732434e-17\n",
            "  2.85168353e-04 1.00000000e+00]\n",
            " [9.99993682e-01 9.18825776e-07 1.00000000e+00 1.00000000e+00\n",
            "  2.88456311e-27 1.82044681e-32]\n",
            " [3.44233114e-11 3.76313276e-24 2.79232053e-33 1.15577846e-10\n",
            "  9.99998331e-01 1.00000000e+00]\n",
            " ...\n",
            " [1.00000000e+00 1.00000000e+00 1.00000000e+00 4.75742300e-18\n",
            "  1.40180006e-07 2.23582753e-37]\n",
            " [1.82163423e-10 1.07172411e-04 5.69740034e-21 3.28260745e-20\n",
            "  1.00000000e+00 5.78434023e-10]\n",
            " [1.83641734e-19 9.88393135e-12 3.06352572e-14 1.00000000e+00\n",
            "  1.13313083e-08 9.99999642e-01]]\n"
          ]
        }
      ]
    },
    {
      "cell_type": "code",
      "source": [
        "result = []\n",
        "for i in y_predictions:\n",
        "  result.append(np.argmax(i))\n",
        "\n",
        "import csv\n",
        "with open('result.csv', 'w', newline='') as csv_file:\n",
        "      fieldnames = ['image_name', 'label']\n",
        "      writer = csv.DictWriter(csv_file, fieldnames=fieldnames)\n",
        "      writer.writeheader()\n",
        "      for i in range(len(result)):\n",
        "          writer.writerow({'image_name': test_images_names[i], 'label': result[i]})"
      ],
      "metadata": {
        "id": "zDU88nMUBRNa"
      },
      "execution_count": null,
      "outputs": []
    },
    {
      "cell_type": "code",
      "source": [
        "import os\n",
        "import urllib.request\n",
        "urllib.request.urlretrieve('https://drive.google.com/uc?export=download&id=1pjBpzyKE7QmvKZRy5zUFxDXYZQ5F7ow0', 'vgg_Weights.h5')\n"
      ],
      "metadata": {
        "id": "bUEBrtTzMwoz",
        "colab": {
          "base_uri": "https://localhost:8080/"
        },
        "outputId": "451dd712-abb2-4649-ff34-81ed052b4e76"
      },
      "execution_count": null,
      "outputs": [
        {
          "output_type": "execute_result",
          "data": {
            "text/plain": [
              "('vgg_Weights.h5', <http.client.HTTPMessage at 0x7f43ca268d60>)"
            ]
          },
          "metadata": {},
          "execution_count": 14
        }
      ]
    }
  ]
}